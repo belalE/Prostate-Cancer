{
 "cells": [
  {
   "cell_type": "code",
   "execution_count": 2,
   "source": [
    "import pandas as pd\n",
    "import numpy as np\n",
    "import matplotlib.pyplot as plt\n",
    "import seaborn as sns\n",
    "%matplotlib inline"
   ],
   "outputs": [],
   "metadata": {}
  },
  {
   "cell_type": "code",
   "execution_count": 3,
   "source": [
    "train_data = pd.read_csv('PCC.individual.project.data.csv')"
   ],
   "outputs": [],
   "metadata": {}
  },
  {
   "cell_type": "markdown",
   "source": [
    "## Train/Test Split"
   ],
   "metadata": {}
  },
  {
   "cell_type": "code",
   "execution_count": 4,
   "source": [
    "train_data = train_data.loc[train_data['STUDYID'] != 'ASC']"
   ],
   "outputs": [],
   "metadata": {}
  },
  {
   "cell_type": "code",
   "execution_count": 5,
   "source": [
    "# def get_risk(patient):\n",
    "#     if patient.death == 1 and patient.time < 365:\n",
    "#         # Patient is high risk\n",
    "#         return 1\n",
    "#     elif patient.death == 0 and patient.time > 730:\n",
    "#         # Patient is low risk\n",
    "#         return 0\n",
    "#     else:\n",
    "#         # Patient needs to be dropped, insufficient data\n",
    "#         return 'drop'"
   ],
   "outputs": [],
   "metadata": {}
  },
  {
   "cell_type": "code",
   "execution_count": 6,
   "source": [
    "def get_risk2(patient):\n",
    "    if patient.death == 1 and patient.time < 365:\n",
    "        # Patient is high risk\n",
    "        return 1\n",
    "    elif patient.time > 730:\n",
    "        # Patient is low risk\n",
    "        return 0\n",
    "    else:\n",
    "        # Patient needs to be dropped, insufficient data\n",
    "        return 'drop'\n"
   ],
   "outputs": [],
   "metadata": {}
  },
  {
   "cell_type": "code",
   "execution_count": 7,
   "source": [
    "train_data['high_risk'] = train_data.apply(get_risk2, axis=1)\n",
    "train_data = train_data.loc[lambda patient: patient.high_risk != 'drop']"
   ],
   "outputs": [],
   "metadata": {}
  },
  {
   "cell_type": "code",
   "execution_count": 8,
   "source": [
    "train_data = train_data.drop(['time', 'death'], axis=1)"
   ],
   "outputs": [],
   "metadata": {}
  },
  {
   "cell_type": "code",
   "execution_count": 9,
   "source": [
    "train_data.head()"
   ],
   "outputs": [
    {
     "output_type": "execute_result",
     "data": {
      "text/plain": [
       "    STUDYID         RPT   BMI  HEIGHTBL  WEIGHTBL       ALP       ALT  \\\n",
       "479    CELG  CELG-00004  27.9     169.0      79.6  4.127134  2.197225   \n",
       "482    CELG  CELG-00007  33.2     161.5      85.1  5.700444  5.141664   \n",
       "483    CELG  CELG-00008  25.2     167.9      67.6  4.406719  2.639057   \n",
       "499    CELG  CELG-00024  23.0     182.0      75.7  6.383507  2.639057   \n",
       "503    CELG  CELG-00028  22.5     170.0      65.0  6.877296  3.295837   \n",
       "\n",
       "          AST    CA     CREAT  ...  RaceAsian  RaceBlack  RaceOther  \\\n",
       "479  2.772589  2.44  4.290459  ...          0          0          0   \n",
       "482  5.793014  1.80  5.420535  ...          0          0          0   \n",
       "483  3.044522  2.30  4.663439  ...          0          0          0   \n",
       "499  3.295837  2.25  4.060443  ...          0          0          0   \n",
       "503  3.761200  1.98  4.127134  ...          0          0          0   \n",
       "\n",
       "     RaceWhite  RegionAsia  RegionEastEuro  RegionNorthAmer  RegionSouthAmer  \\\n",
       "479          1           0               0                0                0   \n",
       "482          1           0               0                1                0   \n",
       "483          1           0               0                1                0   \n",
       "499          1           0               0                0                0   \n",
       "503          1           0               1                0                0   \n",
       "\n",
       "     RegionWestEuro  high_risk  \n",
       "479               1          1  \n",
       "482               0          1  \n",
       "483               0          1  \n",
       "499               0          1  \n",
       "503               0          1  \n",
       "\n",
       "[5 rows x 104 columns]"
      ],
      "text/html": [
       "<div>\n",
       "<style scoped>\n",
       "    .dataframe tbody tr th:only-of-type {\n",
       "        vertical-align: middle;\n",
       "    }\n",
       "\n",
       "    .dataframe tbody tr th {\n",
       "        vertical-align: top;\n",
       "    }\n",
       "\n",
       "    .dataframe thead th {\n",
       "        text-align: right;\n",
       "    }\n",
       "</style>\n",
       "<table border=\"1\" class=\"dataframe\">\n",
       "  <thead>\n",
       "    <tr style=\"text-align: right;\">\n",
       "      <th></th>\n",
       "      <th>STUDYID</th>\n",
       "      <th>RPT</th>\n",
       "      <th>BMI</th>\n",
       "      <th>HEIGHTBL</th>\n",
       "      <th>WEIGHTBL</th>\n",
       "      <th>ALP</th>\n",
       "      <th>ALT</th>\n",
       "      <th>AST</th>\n",
       "      <th>CA</th>\n",
       "      <th>CREAT</th>\n",
       "      <th>...</th>\n",
       "      <th>RaceAsian</th>\n",
       "      <th>RaceBlack</th>\n",
       "      <th>RaceOther</th>\n",
       "      <th>RaceWhite</th>\n",
       "      <th>RegionAsia</th>\n",
       "      <th>RegionEastEuro</th>\n",
       "      <th>RegionNorthAmer</th>\n",
       "      <th>RegionSouthAmer</th>\n",
       "      <th>RegionWestEuro</th>\n",
       "      <th>high_risk</th>\n",
       "    </tr>\n",
       "  </thead>\n",
       "  <tbody>\n",
       "    <tr>\n",
       "      <th>479</th>\n",
       "      <td>CELG</td>\n",
       "      <td>CELG-00004</td>\n",
       "      <td>27.9</td>\n",
       "      <td>169.0</td>\n",
       "      <td>79.6</td>\n",
       "      <td>4.127134</td>\n",
       "      <td>2.197225</td>\n",
       "      <td>2.772589</td>\n",
       "      <td>2.44</td>\n",
       "      <td>4.290459</td>\n",
       "      <td>...</td>\n",
       "      <td>0</td>\n",
       "      <td>0</td>\n",
       "      <td>0</td>\n",
       "      <td>1</td>\n",
       "      <td>0</td>\n",
       "      <td>0</td>\n",
       "      <td>0</td>\n",
       "      <td>0</td>\n",
       "      <td>1</td>\n",
       "      <td>1</td>\n",
       "    </tr>\n",
       "    <tr>\n",
       "      <th>482</th>\n",
       "      <td>CELG</td>\n",
       "      <td>CELG-00007</td>\n",
       "      <td>33.2</td>\n",
       "      <td>161.5</td>\n",
       "      <td>85.1</td>\n",
       "      <td>5.700444</td>\n",
       "      <td>5.141664</td>\n",
       "      <td>5.793014</td>\n",
       "      <td>1.80</td>\n",
       "      <td>5.420535</td>\n",
       "      <td>...</td>\n",
       "      <td>0</td>\n",
       "      <td>0</td>\n",
       "      <td>0</td>\n",
       "      <td>1</td>\n",
       "      <td>0</td>\n",
       "      <td>0</td>\n",
       "      <td>1</td>\n",
       "      <td>0</td>\n",
       "      <td>0</td>\n",
       "      <td>1</td>\n",
       "    </tr>\n",
       "    <tr>\n",
       "      <th>483</th>\n",
       "      <td>CELG</td>\n",
       "      <td>CELG-00008</td>\n",
       "      <td>25.2</td>\n",
       "      <td>167.9</td>\n",
       "      <td>67.6</td>\n",
       "      <td>4.406719</td>\n",
       "      <td>2.639057</td>\n",
       "      <td>3.044522</td>\n",
       "      <td>2.30</td>\n",
       "      <td>4.663439</td>\n",
       "      <td>...</td>\n",
       "      <td>0</td>\n",
       "      <td>0</td>\n",
       "      <td>0</td>\n",
       "      <td>1</td>\n",
       "      <td>0</td>\n",
       "      <td>0</td>\n",
       "      <td>1</td>\n",
       "      <td>0</td>\n",
       "      <td>0</td>\n",
       "      <td>1</td>\n",
       "    </tr>\n",
       "    <tr>\n",
       "      <th>499</th>\n",
       "      <td>CELG</td>\n",
       "      <td>CELG-00024</td>\n",
       "      <td>23.0</td>\n",
       "      <td>182.0</td>\n",
       "      <td>75.7</td>\n",
       "      <td>6.383507</td>\n",
       "      <td>2.639057</td>\n",
       "      <td>3.295837</td>\n",
       "      <td>2.25</td>\n",
       "      <td>4.060443</td>\n",
       "      <td>...</td>\n",
       "      <td>0</td>\n",
       "      <td>0</td>\n",
       "      <td>0</td>\n",
       "      <td>1</td>\n",
       "      <td>0</td>\n",
       "      <td>0</td>\n",
       "      <td>0</td>\n",
       "      <td>0</td>\n",
       "      <td>0</td>\n",
       "      <td>1</td>\n",
       "    </tr>\n",
       "    <tr>\n",
       "      <th>503</th>\n",
       "      <td>CELG</td>\n",
       "      <td>CELG-00028</td>\n",
       "      <td>22.5</td>\n",
       "      <td>170.0</td>\n",
       "      <td>65.0</td>\n",
       "      <td>6.877296</td>\n",
       "      <td>3.295837</td>\n",
       "      <td>3.761200</td>\n",
       "      <td>1.98</td>\n",
       "      <td>4.127134</td>\n",
       "      <td>...</td>\n",
       "      <td>0</td>\n",
       "      <td>0</td>\n",
       "      <td>0</td>\n",
       "      <td>1</td>\n",
       "      <td>0</td>\n",
       "      <td>1</td>\n",
       "      <td>0</td>\n",
       "      <td>0</td>\n",
       "      <td>0</td>\n",
       "      <td>1</td>\n",
       "    </tr>\n",
       "  </tbody>\n",
       "</table>\n",
       "<p>5 rows × 104 columns</p>\n",
       "</div>"
      ]
     },
     "metadata": {},
     "execution_count": 9
    }
   ],
   "metadata": {}
  },
  {
   "cell_type": "code",
   "execution_count": 10,
   "source": [
    "train_data.shape"
   ],
   "outputs": [
    {
     "output_type": "execute_result",
     "data": {
      "text/plain": [
       "(470, 104)"
      ]
     },
     "metadata": {},
     "execution_count": 10
    }
   ],
   "metadata": {}
  },
  {
   "cell_type": "code",
   "execution_count": 11,
   "source": [
    "train_data.groupby('AGEGRP2').count()"
   ],
   "outputs": [
    {
     "output_type": "execute_result",
     "data": {
      "text/plain": [
       "         STUDYID  RPT  BMI  HEIGHTBL  WEIGHTBL  ALP  ALT  AST   CA  CREAT  \\\n",
       "AGEGRP2                                                                     \n",
       "0            159  159  159       159       159  159  159  159  159    159   \n",
       "1            212  212  212       212       212  212  212  212  212    212   \n",
       "2             99   99   99        99        99   99   99   99   99     99   \n",
       "\n",
       "         ...  RaceAsian  RaceBlack  RaceOther  RaceWhite  RegionAsia  \\\n",
       "AGEGRP2  ...                                                           \n",
       "0        ...        159        159        159        159         159   \n",
       "1        ...        212        212        212        212         212   \n",
       "2        ...         99         99         99         99          99   \n",
       "\n",
       "         RegionEastEuro  RegionNorthAmer  RegionSouthAmer  RegionWestEuro  \\\n",
       "AGEGRP2                                                                     \n",
       "0                   159              159              159             159   \n",
       "1                   212              212              212             212   \n",
       "2                    99               99               99              99   \n",
       "\n",
       "         high_risk  \n",
       "AGEGRP2             \n",
       "0              159  \n",
       "1              212  \n",
       "2               99  \n",
       "\n",
       "[3 rows x 103 columns]"
      ],
      "text/html": [
       "<div>\n",
       "<style scoped>\n",
       "    .dataframe tbody tr th:only-of-type {\n",
       "        vertical-align: middle;\n",
       "    }\n",
       "\n",
       "    .dataframe tbody tr th {\n",
       "        vertical-align: top;\n",
       "    }\n",
       "\n",
       "    .dataframe thead th {\n",
       "        text-align: right;\n",
       "    }\n",
       "</style>\n",
       "<table border=\"1\" class=\"dataframe\">\n",
       "  <thead>\n",
       "    <tr style=\"text-align: right;\">\n",
       "      <th></th>\n",
       "      <th>STUDYID</th>\n",
       "      <th>RPT</th>\n",
       "      <th>BMI</th>\n",
       "      <th>HEIGHTBL</th>\n",
       "      <th>WEIGHTBL</th>\n",
       "      <th>ALP</th>\n",
       "      <th>ALT</th>\n",
       "      <th>AST</th>\n",
       "      <th>CA</th>\n",
       "      <th>CREAT</th>\n",
       "      <th>...</th>\n",
       "      <th>RaceAsian</th>\n",
       "      <th>RaceBlack</th>\n",
       "      <th>RaceOther</th>\n",
       "      <th>RaceWhite</th>\n",
       "      <th>RegionAsia</th>\n",
       "      <th>RegionEastEuro</th>\n",
       "      <th>RegionNorthAmer</th>\n",
       "      <th>RegionSouthAmer</th>\n",
       "      <th>RegionWestEuro</th>\n",
       "      <th>high_risk</th>\n",
       "    </tr>\n",
       "    <tr>\n",
       "      <th>AGEGRP2</th>\n",
       "      <th></th>\n",
       "      <th></th>\n",
       "      <th></th>\n",
       "      <th></th>\n",
       "      <th></th>\n",
       "      <th></th>\n",
       "      <th></th>\n",
       "      <th></th>\n",
       "      <th></th>\n",
       "      <th></th>\n",
       "      <th></th>\n",
       "      <th></th>\n",
       "      <th></th>\n",
       "      <th></th>\n",
       "      <th></th>\n",
       "      <th></th>\n",
       "      <th></th>\n",
       "      <th></th>\n",
       "      <th></th>\n",
       "      <th></th>\n",
       "      <th></th>\n",
       "    </tr>\n",
       "  </thead>\n",
       "  <tbody>\n",
       "    <tr>\n",
       "      <th>0</th>\n",
       "      <td>159</td>\n",
       "      <td>159</td>\n",
       "      <td>159</td>\n",
       "      <td>159</td>\n",
       "      <td>159</td>\n",
       "      <td>159</td>\n",
       "      <td>159</td>\n",
       "      <td>159</td>\n",
       "      <td>159</td>\n",
       "      <td>159</td>\n",
       "      <td>...</td>\n",
       "      <td>159</td>\n",
       "      <td>159</td>\n",
       "      <td>159</td>\n",
       "      <td>159</td>\n",
       "      <td>159</td>\n",
       "      <td>159</td>\n",
       "      <td>159</td>\n",
       "      <td>159</td>\n",
       "      <td>159</td>\n",
       "      <td>159</td>\n",
       "    </tr>\n",
       "    <tr>\n",
       "      <th>1</th>\n",
       "      <td>212</td>\n",
       "      <td>212</td>\n",
       "      <td>212</td>\n",
       "      <td>212</td>\n",
       "      <td>212</td>\n",
       "      <td>212</td>\n",
       "      <td>212</td>\n",
       "      <td>212</td>\n",
       "      <td>212</td>\n",
       "      <td>212</td>\n",
       "      <td>...</td>\n",
       "      <td>212</td>\n",
       "      <td>212</td>\n",
       "      <td>212</td>\n",
       "      <td>212</td>\n",
       "      <td>212</td>\n",
       "      <td>212</td>\n",
       "      <td>212</td>\n",
       "      <td>212</td>\n",
       "      <td>212</td>\n",
       "      <td>212</td>\n",
       "    </tr>\n",
       "    <tr>\n",
       "      <th>2</th>\n",
       "      <td>99</td>\n",
       "      <td>99</td>\n",
       "      <td>99</td>\n",
       "      <td>99</td>\n",
       "      <td>99</td>\n",
       "      <td>99</td>\n",
       "      <td>99</td>\n",
       "      <td>99</td>\n",
       "      <td>99</td>\n",
       "      <td>99</td>\n",
       "      <td>...</td>\n",
       "      <td>99</td>\n",
       "      <td>99</td>\n",
       "      <td>99</td>\n",
       "      <td>99</td>\n",
       "      <td>99</td>\n",
       "      <td>99</td>\n",
       "      <td>99</td>\n",
       "      <td>99</td>\n",
       "      <td>99</td>\n",
       "      <td>99</td>\n",
       "    </tr>\n",
       "  </tbody>\n",
       "</table>\n",
       "<p>3 rows × 103 columns</p>\n",
       "</div>"
      ]
     },
     "metadata": {},
     "execution_count": 11
    }
   ],
   "metadata": {}
  },
  {
   "cell_type": "code",
   "execution_count": 12,
   "source": [
    "train_data.groupby('ECOG_C').count()\n"
   ],
   "outputs": [
    {
     "output_type": "execute_result",
     "data": {
      "text/plain": [
       "        STUDYID  RPT  BMI  HEIGHTBL  WEIGHTBL  ALP  ALT  AST   CA  CREAT  ...  \\\n",
       "ECOG_C                                                                    ...   \n",
       "0           223  223  223       223       223  223  223  223  223    223  ...   \n",
       "1           247  247  247       247       247  247  247  247  247    247  ...   \n",
       "\n",
       "        RaceAsian  RaceBlack  RaceOther  RaceWhite  RegionAsia  \\\n",
       "ECOG_C                                                           \n",
       "0             223        223        223        223         223   \n",
       "1             247        247        247        247         247   \n",
       "\n",
       "        RegionEastEuro  RegionNorthAmer  RegionSouthAmer  RegionWestEuro  \\\n",
       "ECOG_C                                                                     \n",
       "0                  223              223              223             223   \n",
       "1                  247              247              247             247   \n",
       "\n",
       "        high_risk  \n",
       "ECOG_C             \n",
       "0             223  \n",
       "1             247  \n",
       "\n",
       "[2 rows x 103 columns]"
      ],
      "text/html": [
       "<div>\n",
       "<style scoped>\n",
       "    .dataframe tbody tr th:only-of-type {\n",
       "        vertical-align: middle;\n",
       "    }\n",
       "\n",
       "    .dataframe tbody tr th {\n",
       "        vertical-align: top;\n",
       "    }\n",
       "\n",
       "    .dataframe thead th {\n",
       "        text-align: right;\n",
       "    }\n",
       "</style>\n",
       "<table border=\"1\" class=\"dataframe\">\n",
       "  <thead>\n",
       "    <tr style=\"text-align: right;\">\n",
       "      <th></th>\n",
       "      <th>STUDYID</th>\n",
       "      <th>RPT</th>\n",
       "      <th>BMI</th>\n",
       "      <th>HEIGHTBL</th>\n",
       "      <th>WEIGHTBL</th>\n",
       "      <th>ALP</th>\n",
       "      <th>ALT</th>\n",
       "      <th>AST</th>\n",
       "      <th>CA</th>\n",
       "      <th>CREAT</th>\n",
       "      <th>...</th>\n",
       "      <th>RaceAsian</th>\n",
       "      <th>RaceBlack</th>\n",
       "      <th>RaceOther</th>\n",
       "      <th>RaceWhite</th>\n",
       "      <th>RegionAsia</th>\n",
       "      <th>RegionEastEuro</th>\n",
       "      <th>RegionNorthAmer</th>\n",
       "      <th>RegionSouthAmer</th>\n",
       "      <th>RegionWestEuro</th>\n",
       "      <th>high_risk</th>\n",
       "    </tr>\n",
       "    <tr>\n",
       "      <th>ECOG_C</th>\n",
       "      <th></th>\n",
       "      <th></th>\n",
       "      <th></th>\n",
       "      <th></th>\n",
       "      <th></th>\n",
       "      <th></th>\n",
       "      <th></th>\n",
       "      <th></th>\n",
       "      <th></th>\n",
       "      <th></th>\n",
       "      <th></th>\n",
       "      <th></th>\n",
       "      <th></th>\n",
       "      <th></th>\n",
       "      <th></th>\n",
       "      <th></th>\n",
       "      <th></th>\n",
       "      <th></th>\n",
       "      <th></th>\n",
       "      <th></th>\n",
       "      <th></th>\n",
       "    </tr>\n",
       "  </thead>\n",
       "  <tbody>\n",
       "    <tr>\n",
       "      <th>0</th>\n",
       "      <td>223</td>\n",
       "      <td>223</td>\n",
       "      <td>223</td>\n",
       "      <td>223</td>\n",
       "      <td>223</td>\n",
       "      <td>223</td>\n",
       "      <td>223</td>\n",
       "      <td>223</td>\n",
       "      <td>223</td>\n",
       "      <td>223</td>\n",
       "      <td>...</td>\n",
       "      <td>223</td>\n",
       "      <td>223</td>\n",
       "      <td>223</td>\n",
       "      <td>223</td>\n",
       "      <td>223</td>\n",
       "      <td>223</td>\n",
       "      <td>223</td>\n",
       "      <td>223</td>\n",
       "      <td>223</td>\n",
       "      <td>223</td>\n",
       "    </tr>\n",
       "    <tr>\n",
       "      <th>1</th>\n",
       "      <td>247</td>\n",
       "      <td>247</td>\n",
       "      <td>247</td>\n",
       "      <td>247</td>\n",
       "      <td>247</td>\n",
       "      <td>247</td>\n",
       "      <td>247</td>\n",
       "      <td>247</td>\n",
       "      <td>247</td>\n",
       "      <td>247</td>\n",
       "      <td>...</td>\n",
       "      <td>247</td>\n",
       "      <td>247</td>\n",
       "      <td>247</td>\n",
       "      <td>247</td>\n",
       "      <td>247</td>\n",
       "      <td>247</td>\n",
       "      <td>247</td>\n",
       "      <td>247</td>\n",
       "      <td>247</td>\n",
       "      <td>247</td>\n",
       "    </tr>\n",
       "  </tbody>\n",
       "</table>\n",
       "<p>2 rows × 103 columns</p>\n",
       "</div>"
      ]
     },
     "metadata": {},
     "execution_count": 12
    }
   ],
   "metadata": {}
  },
  {
   "cell_type": "markdown",
   "source": [
    "## Defining X and Y"
   ],
   "metadata": {}
  },
  {
   "cell_type": "code",
   "execution_count": 13,
   "source": [
    "X = train_data.drop(['high_risk', 'STUDYID','RPT'], axis=1).values\n",
    "y = train_data['high_risk'].values\n"
   ],
   "outputs": [],
   "metadata": {}
  },
  {
   "cell_type": "code",
   "execution_count": 14,
   "source": [
    "y = y.astype('int')\n"
   ],
   "outputs": [],
   "metadata": {}
  },
  {
   "cell_type": "code",
   "execution_count": 15,
   "source": [
    "# X = np.asarray(X).astype(np.float32)\n"
   ],
   "outputs": [],
   "metadata": {}
  },
  {
   "cell_type": "markdown",
   "source": [
    "## Train Test Split"
   ],
   "metadata": {}
  },
  {
   "cell_type": "code",
   "execution_count": 16,
   "source": [
    "from sklearn.model_selection import train_test_split"
   ],
   "outputs": [],
   "metadata": {}
  },
  {
   "cell_type": "code",
   "execution_count": 17,
   "source": [
    "X_train, X_test, y_train, y_test = train_test_split(X, y, test_size=0.33, random_state=101)\n"
   ],
   "outputs": [],
   "metadata": {}
  },
  {
   "cell_type": "code",
   "execution_count": 18,
   "source": [
    "# X_train = np.asarray(X_train).astype(np.float32)\n",
    "# y_train = np.asarray(y_train).astype(np.float32)\n",
    "# X_test = np.asarray(y_train).astype(np.float32)\n",
    "# y_test = np.asarray(y_train).astype(np.float32)\n"
   ],
   "outputs": [],
   "metadata": {}
  },
  {
   "cell_type": "markdown",
   "source": [
    "## Scaling Data"
   ],
   "metadata": {}
  },
  {
   "cell_type": "code",
   "execution_count": 19,
   "source": [
    "from sklearn.preprocessing import MinMaxScaler"
   ],
   "outputs": [],
   "metadata": {}
  },
  {
   "cell_type": "code",
   "execution_count": 20,
   "source": [
    "scaler = MinMaxScaler()"
   ],
   "outputs": [],
   "metadata": {}
  },
  {
   "cell_type": "code",
   "execution_count": 21,
   "source": [
    "# X_train= scaler.fit_transform(X_train)"
   ],
   "outputs": [],
   "metadata": {}
  },
  {
   "cell_type": "code",
   "execution_count": 22,
   "source": [
    "# X_test = scaler.transform(X_test)"
   ],
   "outputs": [],
   "metadata": {}
  },
  {
   "cell_type": "code",
   "execution_count": 23,
   "source": [
    "X_train.shape"
   ],
   "outputs": [
    {
     "output_type": "execute_result",
     "data": {
      "text/plain": [
       "(314, 101)"
      ]
     },
     "metadata": {},
     "execution_count": 23
    }
   ],
   "metadata": {}
  },
  {
   "cell_type": "code",
   "execution_count": 24,
   "source": [
    "X_test.shape"
   ],
   "outputs": [
    {
     "output_type": "execute_result",
     "data": {
      "text/plain": [
       "(156, 101)"
      ]
     },
     "metadata": {},
     "execution_count": 24
    }
   ],
   "metadata": {}
  },
  {
   "cell_type": "code",
   "execution_count": 25,
   "source": [
    "X_test"
   ],
   "outputs": [
    {
     "output_type": "execute_result",
     "data": {
      "text/plain": [
       "array([[ 29. , 166. ,  80. , ...,   0. ,   0. ,   1. ],\n",
       "       [ 24.8, 174. ,  75. , ...,   0. ,   0. ,   0. ],\n",
       "       [ 26. , 160. ,  66.5, ...,   0. ,   1. ,   0. ],\n",
       "       ...,\n",
       "       [ 26.8, 178. ,  85. , ...,   0. ,   0. ,   1. ],\n",
       "       [ 26.3, 171.8,  76.2, ...,   1. ,   0. ,   0. ],\n",
       "       [ 26.4, 175. ,  82. , ...,   0. ,   0. ,   1. ]])"
      ]
     },
     "metadata": {},
     "execution_count": 25
    }
   ],
   "metadata": {}
  },
  {
   "cell_type": "markdown",
   "source": [
    "## Model Setup"
   ],
   "metadata": {}
  },
  {
   "cell_type": "code",
   "execution_count": 26,
   "source": [
    "from tensorflow.keras.models import Sequential\n",
    "from tensorflow.keras.layers import Dense, Activation, Dropout\n",
    "from tensorflow.keras.optimizers import Adam\n",
    "from tensorflow.keras.callbacks import EarlyStopping,TensorBoard\n"
   ],
   "outputs": [],
   "metadata": {}
  },
  {
   "cell_type": "code",
   "execution_count": 27,
   "source": [
    "early_stop = EarlyStopping(monitor='val_loss', mode='min', verbose=1, patience=25)"
   ],
   "outputs": [],
   "metadata": {}
  },
  {
   "cell_type": "code",
   "execution_count": 28,
   "source": [
    "log_directory = 'logs\\fit'\n",
    "\n",
    "board = TensorBoard(log_dir=log_directory,histogram_freq=1,\n",
    "    write_graph=True,\n",
    "    write_images=True,\n",
    "    update_freq='epoch',\n",
    "    profile_batch=2,\n",
    "    embeddings_freq=1)\n"
   ],
   "outputs": [],
   "metadata": {}
  },
  {
   "cell_type": "markdown",
   "source": [
    "## Create Model"
   ],
   "metadata": {}
  },
  {
   "cell_type": "code",
   "execution_count": 29,
   "source": [
    "# model = Sequential()\n",
    "# model.add(Dense(units=101, activation='relu'))\n",
    "# model.add(Dropout(0.2))\n",
    "# model.add(Dense(units=50, activation='relu'))\n",
    "# model.add(Dropout(0.2))\n",
    "# model.add(Dense(units=1, activation='sigmoid'))\n",
    "# model.compile(loss='binary_crossentropy', optimizer='adam')\n"
   ],
   "outputs": [],
   "metadata": {}
  },
  {
   "cell_type": "code",
   "execution_count": 30,
   "source": [
    "from sklearn.model_selection import StratifiedKFold\n",
    "from sklearn.metrics import classification_report, confusion_matrix\n",
    "from sklearn.utils.multiclass import type_of_target\n"
   ],
   "outputs": [],
   "metadata": {}
  },
  {
   "cell_type": "code",
   "execution_count": null,
   "source": [],
   "outputs": [],
   "metadata": {}
  },
  {
   "cell_type": "code",
   "execution_count": 31,
   "source": [
    "# folds = StratifiedKFold(n_splits=3)\n",
    "# scores_nn = []\n",
    "# model_loss_nn = []\n",
    "# confusion_matrix_nn = []\n",
    "# classification_report_nn = []\n",
    "# print(type_of_target(y_train))\n",
    "# for train_index, test_index in folds.split(X_train, y_train):\n",
    "#     X_train, X_test, y_train, y_test = X_train[train_index], X_train[test_index], y_train[train_index], y_train[test_index];\n",
    "#     model.fit(X_train, y_train, epochs=600, validation_data=(X_test, y_test), callbacks=[early_stop, board], verbose=0)\n",
    "#     model_loss = pd.DataFrame(model.history.history)\n",
    "#     model_loss_nn.append(model_loss)\n",
    "#     predictions = model.predict_classes(X_test)\n",
    "#     confusion_matrix_nn.append(confusion_matrix(y_test, predictions))\n",
    "#     classification_report_nn.append(classification_report(y_test, predictions))\n",
    "            \n"
   ],
   "outputs": [],
   "metadata": {}
  },
  {
   "cell_type": "code",
   "execution_count": 32,
   "source": [
    "# model.fit(x=X_train, y=y_train, epochs=600, validation_data=(\n",
    "#     X_test, y_test), verbose=0)\n"
   ],
   "outputs": [],
   "metadata": {}
  },
  {
   "cell_type": "code",
   "execution_count": 33,
   "source": [
    "# model_loss = pd.DataFrame(model.history.history)\n",
    "# model_loss.plot()"
   ],
   "outputs": [],
   "metadata": {}
  },
  {
   "cell_type": "code",
   "execution_count": 34,
   "source": [
    "# predictions = model.predict_classes(X_test)"
   ],
   "outputs": [],
   "metadata": {}
  },
  {
   "cell_type": "code",
   "execution_count": 35,
   "source": [
    "# print(confusion_matrix(y_test, predictions))\n",
    "# print('\\n')\n",
    "# print(classification_report(y_test, predictions))"
   ],
   "outputs": [],
   "metadata": {}
  },
  {
   "cell_type": "markdown",
   "source": [
    "for tensorboard: use command: tensorboard --logdir logs\\fit "
   ],
   "metadata": {}
  },
  {
   "cell_type": "markdown",
   "source": [
    "Try 2: Add Early Stopping + Tensorboard"
   ],
   "metadata": {}
  },
  {
   "cell_type": "code",
   "execution_count": 36,
   "source": [
    "# model = Sequential()\n",
    "# model.add(Dense(units=101, activation='relu'))\n",
    "# model.add(Dropout(0.2))\n",
    "# model.add(Dense(units=50, activation='relu'))\n",
    "# model.add(Dropout(0.2))\n",
    "# model.add(Dense(units=1, activation='sigmoid'))\n",
    "# model.compile(loss='binary_crossentropy', optimizer='adam')\n"
   ],
   "outputs": [],
   "metadata": {}
  },
  {
   "cell_type": "code",
   "execution_count": 37,
   "source": [
    "# model.fit(x=X_train, y=y_train, epochs=600, validation_data=(\n",
    "#     X_test, y_test), callbacks=[early_stop, board], verbose=0)\n"
   ],
   "outputs": [],
   "metadata": {}
  },
  {
   "cell_type": "code",
   "execution_count": 38,
   "source": [
    "# model_loss = pd.DataFrame(model.history.history)\n",
    "# model_loss.plot()\n"
   ],
   "outputs": [],
   "metadata": {}
  },
  {
   "cell_type": "code",
   "execution_count": 39,
   "source": [
    "# predictions = model.predict_classes(X_test)\n"
   ],
   "outputs": [],
   "metadata": {}
  },
  {
   "cell_type": "code",
   "execution_count": 40,
   "source": [
    "# print(confusion_matrix(y_test, predictions))\n",
    "# print('\\n')\n",
    "# print(classification_report(y_test, predictions))\n"
   ],
   "outputs": [],
   "metadata": {}
  },
  {
   "cell_type": "markdown",
   "source": [
    "## Trying to decrease complexity"
   ],
   "metadata": {}
  },
  {
   "cell_type": "code",
   "execution_count": 41,
   "source": [
    "# model = Sequential()\n",
    "# model.add(Dense(units=50, activation='relu'))\n",
    "# model.add(Dropout(0.2))\n",
    "# model.add(Dense(units=20, activation='relu'))\n",
    "# model.add(Dropout(0.2))\n",
    "# model.add(Dense(units=1, activation='sigmoid'))\n",
    "# model.compile(loss='binary_crossentropy', optimizer='adam')\n"
   ],
   "outputs": [],
   "metadata": {}
  },
  {
   "cell_type": "code",
   "execution_count": 42,
   "source": [
    "# model.fit(x=X_train, y=y_train, epochs=600, validation_data=(X_test, y_test), callbacks=[early_stop, board], verbose=0)"
   ],
   "outputs": [],
   "metadata": {}
  },
  {
   "cell_type": "code",
   "execution_count": 43,
   "source": [
    "# model_loss = pd.DataFrame(model.history.history)\n",
    "# model_loss.plot()\n"
   ],
   "outputs": [],
   "metadata": {}
  },
  {
   "cell_type": "code",
   "execution_count": 44,
   "source": [
    "# predictions = model.predict_classes(X_test)"
   ],
   "outputs": [],
   "metadata": {}
  },
  {
   "cell_type": "code",
   "execution_count": 45,
   "source": [
    "# print(classification_report(y_test, predictions))\n",
    "# print('\\n')\n",
    "# print(confusion_matrix(y_test, predictions))"
   ],
   "outputs": [],
   "metadata": {}
  },
  {
   "cell_type": "markdown",
   "source": [
    "## Increasing Complexity"
   ],
   "metadata": {}
  },
  {
   "cell_type": "code",
   "execution_count": 46,
   "source": [
    "# model = Sequential()\n",
    "# model.add(Dense(units=202, activation='relu'))\n",
    "# model.add(Dropout(0.2))\n",
    "# model.add(Dense(units=101, activation='relu'))\n",
    "# model.add(Dropout(0.2))\n",
    "# model.add(Dense(units=20, activation='relu'))\n",
    "# model.add(Dropout(0.2))\n",
    "# model.add(Dense(units=1, activation='sigmoid'))\n",
    "# model.compile(loss='binary_crossentropy', optimizer='adam')\n"
   ],
   "outputs": [],
   "metadata": {}
  },
  {
   "cell_type": "code",
   "execution_count": 47,
   "source": [
    "# model.fit(x=X_train, y=y_train, epochs=600, validation_data=(\n",
    "#     X_test, y_test), callbacks=[early_stop, board], verbose=0)\n"
   ],
   "outputs": [],
   "metadata": {}
  },
  {
   "cell_type": "code",
   "execution_count": 48,
   "source": [
    "# model_loss = pd.DataFrame(model.history.history)\n",
    "# model_loss.plot()\n"
   ],
   "outputs": [],
   "metadata": {}
  },
  {
   "cell_type": "code",
   "execution_count": 49,
   "source": [
    "# predictions = model.predict_classes(X_test)"
   ],
   "outputs": [],
   "metadata": {}
  },
  {
   "cell_type": "code",
   "execution_count": 50,
   "source": [
    "# print(classification_report(y_test, predictions))\n",
    "# print('\\n')\n",
    "# print(confusion_matrix(y_test, predictions))"
   ],
   "outputs": [],
   "metadata": {}
  },
  {
   "cell_type": "code",
   "execution_count": null,
   "source": [],
   "outputs": [],
   "metadata": {}
  },
  {
   "cell_type": "markdown",
   "source": [
    "## Increasing Complexity even more"
   ],
   "metadata": {}
  },
  {
   "cell_type": "code",
   "execution_count": 51,
   "source": [
    "# model = Sequential()\n",
    "# model.add(Dense(units=202, activation='relu'))\n",
    "# model.add(Dropout(0.2))\n",
    "# model.add(Dense(units=101, activation='relu'))\n",
    "# model.add(Dropout(0.2))\n",
    "# model.add(Dense(units=50, activation='relu'))\n",
    "# model.add(Dropout(0.2))\n",
    "# model.add(Dense(units=20, activation='relu'))\n",
    "# model.add(Dropout(0.2))\n",
    "# model.add(Dense(units=1, activation='sigmoid'))\n",
    "# model.compile(loss='binary_crossentropy', optimizer='adam')\n"
   ],
   "outputs": [],
   "metadata": {}
  },
  {
   "cell_type": "code",
   "execution_count": 52,
   "source": [
    "# model.fit(x=X_train, y=y_train, epochs=600, validation_data=(\n",
    "#     X_test, y_test), callbacks=[early_stop, board], verbose=0)\n"
   ],
   "outputs": [],
   "metadata": {}
  },
  {
   "cell_type": "code",
   "execution_count": 53,
   "source": [
    "# model_loss = pd.DataFrame(model.history.history)\n",
    "# model_loss.plot()"
   ],
   "outputs": [],
   "metadata": {}
  },
  {
   "cell_type": "code",
   "execution_count": 54,
   "source": [
    "# predictions = model.predict_classes(X_test)"
   ],
   "outputs": [],
   "metadata": {}
  },
  {
   "cell_type": "code",
   "execution_count": 55,
   "source": [
    "# print(classification_report(y_test, predictions))\n",
    "# print('\\n')\n",
    "# print(confusion_matrix(y_test, predictions))"
   ],
   "outputs": [],
   "metadata": {}
  },
  {
   "cell_type": "markdown",
   "source": [
    "# Cross Validation Attempt"
   ],
   "metadata": {}
  },
  {
   "cell_type": "code",
   "execution_count": 56,
   "source": [
    "def create_baseline():\n",
    "    model = Sequential()\n",
    "    model.add(Dense(units=101, activation='relu'))\n",
    "    model.add(Dropout(0.2))\n",
    "    model.add(Dense(units=50, activation='relu'))\n",
    "    model.add(Dropout(0.2))\n",
    "    model.add(Dense(units=1, activation='sigmoid'))\n",
    "    model.compile(loss='binary_crossentropy',\n",
    "                  optimizer='adam', metrics=[\"accuracy\"])\n",
    "    return model\n"
   ],
   "outputs": [],
   "metadata": {}
  },
  {
   "cell_type": "code",
   "execution_count": 57,
   "source": [
    "from keras.wrappers.scikit_learn import KerasClassifier\n",
    "from sklearn.model_selection import cross_val_score\n",
    "from sklearn.preprocessing import LabelEncoder"
   ],
   "outputs": [],
   "metadata": {}
  },
  {
   "cell_type": "code",
   "execution_count": 58,
   "source": [
    "encoder = LabelEncoder()\n",
    "encoder.fit(y)\n",
    "encoded_Y = encoder.transform(y)"
   ],
   "outputs": [],
   "metadata": {}
  },
  {
   "cell_type": "code",
   "execution_count": 59,
   "source": [
    "estimator = KerasClassifier(build_fn=create_baseline, batch_size=5, epochs=100, verbose=0)\n",
    "kfold = StratifiedKFold(n_splits=10, shuffle=True)\n",
    "results = cross_val_score(estimator, X, encoded_Y, cv=kfold)\n",
    "print(\"Baseline: %.2f%% (%.2f%%)\" % (results.mean()*100, results.std()*100))\n"
   ],
   "outputs": [
    {
     "output_type": "stream",
     "name": "stdout",
     "text": [
      "Baseline: 67.02% (9.19%)\n"
     ]
    }
   ],
   "metadata": {}
  },
  {
   "cell_type": "markdown",
   "source": [
    "Baseline: 75.52% (3.69%)\n",
    "NOW: 93.82% (0.15%); 67.02 (9.19)"
   ],
   "metadata": {}
  },
  {
   "cell_type": "markdown",
   "source": [
    "## Trying with 350 epochs"
   ],
   "metadata": {}
  },
  {
   "cell_type": "code",
   "execution_count": 60,
   "source": [
    "estimator = KerasClassifier(\n",
    "    build_fn=create_baseline, batch_size=5, epochs=350, verbose=0)\n",
    "kfold = StratifiedKFold(n_splits=10, shuffle=True)\n",
    "results = cross_val_score(estimator, X, encoded_Y, cv=kfold)\n",
    "print(\"Baseline: %.2f%% (%.2f%%)\" % (results.mean()*100, results.std()*100))\n"
   ],
   "outputs": [
    {
     "output_type": "stream",
     "name": "stdout",
     "text": [
      "Baseline: 69.15% (6.68%)\n"
     ]
    }
   ],
   "metadata": {}
  },
  {
   "cell_type": "code",
   "execution_count": null,
   "source": [],
   "outputs": [],
   "metadata": {}
  },
  {
   "cell_type": "markdown",
   "source": [
    "Baseline: 77.69% (4.97%); NOW: 93.24% (1.67%); 69.15 (6.68)"
   ],
   "metadata": {}
  },
  {
   "cell_type": "markdown",
   "source": [
    "## Adding Scaler"
   ],
   "metadata": {}
  },
  {
   "cell_type": "code",
   "execution_count": 61,
   "source": [
    "from sklearn.preprocessing import StandardScaler\n",
    "from sklearn.pipeline import Pipeline\n"
   ],
   "outputs": [],
   "metadata": {}
  },
  {
   "cell_type": "code",
   "execution_count": 62,
   "source": [
    "estimators = []\n",
    "estimators.append(('standardize', StandardScaler()))\n",
    "estimators.append(('mlp', KerasClassifier(build_fn=create_baseline, epochs=350, batch_size=5, callbacks=[board], verbose=0)))\n",
    "pipeline = Pipeline(estimators)\n",
    "kfold = StratifiedKFold(n_splits=10, shuffle=True)\n",
    "results = cross_val_score(pipeline, X, encoded_Y, cv=kfold)\n",
    "print(\"Standardized: %.2f%% (%.2f%%)\" %(results.mean()*100, results.std()*100))\n"
   ],
   "outputs": [
    {
     "output_type": "stream",
     "name": "stdout",
     "text": [
      "Standardized: 72.55% (4.09%)\n"
     ]
    }
   ],
   "metadata": {}
  },
  {
   "cell_type": "markdown",
   "source": [
    "Standardized: 79.47% (2.81%); NOW: 91.36% (3.01%); 72.55 (4.09)"
   ],
   "metadata": {}
  },
  {
   "cell_type": "markdown",
   "source": [
    "## Smaller/More simple network"
   ],
   "metadata": {}
  },
  {
   "cell_type": "code",
   "execution_count": 63,
   "source": [
    "# smaller model\n",
    "def create_smaller():\n",
    "\t# create model\n",
    "\tmodel = Sequential()\n",
    "\tmodel.add(Dense(50, input_dim=101, activation='relu'))\n",
    "\tmodel.add(Dropout(0.2))\n",
    "\tmodel.add(Dense(25, input_dim=101, activation='relu'))\n",
    "\tmodel.add(Dropout(0.2))\n",
    "\tmodel.add(Dense(1, activation='sigmoid'))\n",
    "\t# Compile model\n",
    "\tmodel.compile(loss='binary_crossentropy',optimizer='adam', metrics=['accuracy'])\n",
    "\treturn model\n"
   ],
   "outputs": [],
   "metadata": {}
  },
  {
   "cell_type": "code",
   "execution_count": 67,
   "source": [
    "estimators = []\n",
    "estimators.append(('standardize', StandardScaler()))\n",
    "estimators.append(('mlp', KerasClassifier(build_fn=create_smaller,\n",
    "                  epochs=350, batch_size=5, callbacks=[board], verbose=0)))\n",
    "pipeline = Pipeline(estimators)\n",
    "kfold = StratifiedKFold(n_splits=10, shuffle=True)\n",
    "results = cross_val_score(pipeline, X, encoded_Y, cv=kfold)\n",
    "print(\"Standardized: %.2f%% (%.2f%%)\" %\n",
    "      (results.mean()*100, results.std()*100))\n"
   ],
   "outputs": [
    {
     "output_type": "stream",
     "name": "stdout",
     "text": [
      "Standardized: 72.13% (4.70%)\n"
     ]
    }
   ],
   "metadata": {}
  },
  {
   "cell_type": "markdown",
   "source": [
    "Standardized: 78.13% (6.32%); NOW: 93.24% (3.26%); 72.13 (4.70)"
   ],
   "metadata": {}
  }
 ],
 "metadata": {
  "interpreter": {
   "hash": "0f1237e6341c87488679d8f84ce2e2a10a530cd560a9907f89dca6cd7c4a7118"
  },
  "kernelspec": {
   "name": "python3",
   "display_name": "Python 3.8.10 64-bit ('DataViz': conda)"
  },
  "language_info": {
   "codemirror_mode": {
    "name": "ipython",
    "version": 3
   },
   "file_extension": ".py",
   "mimetype": "text/x-python",
   "name": "python",
   "nbconvert_exporter": "python",
   "pygments_lexer": "ipython3",
   "version": "3.8.10"
  },
  "orig_nbformat": 4
 },
 "nbformat": 4,
 "nbformat_minor": 2
}